{
 "cells": [
  {
   "cell_type": "markdown",
   "id": "fb67ba8d",
   "metadata": {},
   "source": [
    "# NLU: Mid-Term Assignment 2022\n",
    "### Description\n",
    "In this notebook, we ask you to complete four main tasks to show what you have learnt during the NLU labs. Therefore, to complete the assignment please refer to the concepts, libraries and other materials shown and used during the labs. The last task is not mandatory, it is a *BONUS* to get an extra mark for the laude. \n",
    "\n",
    "### Instructions\n",
    "- **Dataset**: in this notebook, you are asked to work with the dataset *Conll 2003* provided by us in the *data* folder. Please, load the files from the *data* folder and **do not** change names or paths of the inner files. \n",
    "- **Output**: for each part of your task, print your results and leave it in the notebook. Please, **do not** send a jupyter notebook without the printed outputs.\n",
    "- **Other**: follow carefully all the further instructions and suggestions given in the question descriptions.\n",
    "\n",
    "### Deadline\n",
    "The deadline is due in two weeks from the project presentation. Please, refer to *piazza* channel for the exact date."
   ]
  },
  {
   "cell_type": "markdown",
   "id": "996d123d",
   "metadata": {},
   "source": [
    "### Task 1: Analysis of the dataset"
   ]
  },
  {
   "cell_type": "markdown",
   "id": "9ead0d1f",
   "metadata": {},
   "source": [
    "#### Q 1.1\n",
    "- Create the Vocabulary and Frequency Dictionary of the:\n",
    "    1. Whole dataset\n",
    "    2. Train set\n",
    "    3. Test set\n",
    "    \n",
    "**Attention**: print the first 20 words of the Dictionaty of each set"
   ]
  },
  {
   "cell_type": "markdown",
   "id": "41abee67",
   "metadata": {},
   "source": [
    "##### <p style='color:lightskyblue'> Q 1.1 Development </p>\n",
    "<p style='color:lightskyblue'>To produce a Vocabulary and a Frequency Dictionary we will use the <code>nltk</code> and <code>spaCy</code> libraries.</p>\n",
    "<p style='color:lightskyblue'>The former is used to load <a href=\"data/test.txt\">Test</a>, <a href=\"data/train.txt\">Train</a>, and <a href=\"data/valid.txt\">Validation</a> datasets.</p>\n",
    "\n",
    "<p style='color:lightskyblue'>\n",
    "    For the <b>tokenization</b> task we use the <code>nltk.word_tokenize</code> method. This will allow us to get tokens (words) out of the raw text.\n",
    "    However, in order to create a vocabulary, we iterate through tokens that have been set to lowercase, and add them to a <code>set</code> resulting in a list-like object but with unique values in it.\n",
    "</p>\n",
    "<p style='color:lightskyblue'>\n",
    "    For the <b>frequency</b> task we use the <code>nltk.FreqDist</code> method. This will allow us to get a dictionary representing the frequency with which each word appears in the input text. Secondly, we display the <i>top-20</i> words in terms of frequency for each text file using the. To do this we use a modified version of the <code>nbest</code> function provided in the first lab session, available in the <a href=\"utils.py\">utils</a> file.\n",
    "</p>\n"
   ]
  },
  {
   "cell_type": "code",
   "execution_count": 2,
   "id": "ca1124f9",
   "metadata": {},
   "outputs": [],
   "source": [
    "# IMPORTS\n",
    "import nltk\n",
    "import spacy\n",
    "import matplotlib.pyplot as plt\n",
    "import pandas as pd\n",
    "# Stopwords\n",
    "from nltk.corpus import stopwords\n",
    "from spacy.lang.en.stop_words import STOP_WORDS as SPACY_STOP_WORDS\n",
    "\n",
    "from utils import nbest"
   ]
  },
  {
   "cell_type": "code",
   "execution_count": 3,
   "id": "d73dc2d1",
   "metadata": {},
   "outputs": [],
   "source": [
    "%%capture\n",
    "# IMPORTING DATASETS\n",
    "raw_test = nltk.load('./data/test.txt')\n",
    "raw_train = nltk.load('./data/train.txt')\n",
    "raw_val = nltk.load('./data/valid.txt')"
   ]
  },
  {
   "cell_type": "markdown",
   "id": "d02218bf",
   "metadata": {},
   "source": [
    "<p style='color:lightskyblue'>Test</p>"
   ]
  },
  {
   "cell_type": "code",
   "execution_count": 4,
   "id": "d570e1cd",
   "metadata": {},
   "outputs": [
    {
     "data": {
      "text/plain": [
       "['franco',\n",
       " 'spots',\n",
       " 'advance',\n",
       " 'kong',\n",
       " 'affecting',\n",
       " 'try',\n",
       " 'subject',\n",
       " 'largest',\n",
       " 'first-class',\n",
       " 'north',\n",
       " 'morale-boosting',\n",
       " 'safe',\n",
       " 'waited',\n",
       " 'urska',\n",
       " 'above',\n",
       " 'iseas',\n",
       " 'megan',\n",
       " 'sergio',\n",
       " 'hindu',\n",
       " 'start']"
      ]
     },
     "execution_count": 4,
     "metadata": {},
     "output_type": "execute_result"
    }
   ],
   "source": [
    "# Tokenization\n",
    "test_words = nltk.word_tokenize(raw_test)\n",
    "\n",
    "test_vocabulary = set([ word.lower() for word in test_words])\n",
    "# printing first 20 words in test Vocab\n",
    "list(test_vocabulary)[:20]"
   ]
  },
  {
   "cell_type": "code",
   "execution_count": null,
   "id": "0ac428d1",
   "metadata": {},
   "outputs": [],
   "source": [
    "# Frequency Dictionary from raw text\n",
    "test_freq_dict = nltk.FreqDist(test_words)\n",
    "\n",
    "top_20_test = nbest(test_freq_dict, n=20)\n",
    "top_20_test\n"
   ]
  },
  {
   "cell_type": "markdown",
   "id": "d02218bf",
   "metadata": {},
   "source": [
    "<p style='color:lightskyblue'>Train</p>"
   ]
  },
  {
   "cell_type": "code",
   "execution_count": 32,
   "id": "d570e1cd",
   "metadata": {},
   "outputs": [
    {
     "data": {
      "text/plain": [
       "['employer',\n",
       " 'tutsis',\n",
       " '25-30',\n",
       " 'reid',\n",
       " 'peso',\n",
       " 'uag',\n",
       " 'col',\n",
       " 'housing',\n",
       " 'detain',\n",
       " 'volgograd',\n",
       " '369.00',\n",
       " 'as-safir',\n",
       " 'watkinson',\n",
       " 'budge',\n",
       " 'kapoor',\n",
       " 'please',\n",
       " 'jonathon',\n",
       " 'sutjeska',\n",
       " 'steptoe',\n",
       " 'lasted']"
      ]
     },
     "execution_count": 32,
     "metadata": {},
     "output_type": "execute_result"
    }
   ],
   "source": [
    "# TRAIN\n",
    "\n",
    "# Tokenization\n",
    "train_words = nltk.word_tokenize(raw_train)\n",
    "\n",
    "train_vocab = set([ word.lower() for word in train_words])\n",
    "# printing first 20 words in train Vocab\n",
    "list(train_vocab)[:20]\n"
   ]
  },
  {
   "cell_type": "code",
   "execution_count": null,
   "id": "bad011ef",
   "metadata": {},
   "outputs": [],
   "source": [
    "# Frequency Dictionary from raw text\n",
    "train_freq_dict = nltk.FreqDist(train_words)\n",
    "\n",
    "top_20_train = nbest(train_freq_dict, n=20)\n",
    "top_20_train\n"
   ]
  },
  {
   "cell_type": "markdown",
   "id": "d02218bf",
   "metadata": {},
   "source": [
    "<p style='color:lightskyblue'>Validation</p>"
   ]
  },
  {
   "cell_type": "code",
   "execution_count": null,
   "id": "d570e1cd",
   "metadata": {},
   "outputs": [],
   "source": [
    "# VALIDATION\n",
    "\n",
    "# Tokenization\n",
    "val_sents = nltk.sent_tokenize(raw_val)\n",
    "val_words = nltk.word_tokenize(raw_val)\n",
    "\n",
    "val_vocab = set([ word.lower() for word in val_words])\n",
    "# printing first 20 words in val Vocab\n",
    "list(val_vocab)[:20]\n"
   ]
  },
  {
   "cell_type": "code",
   "execution_count": null,
   "id": "b52750c1",
   "metadata": {},
   "outputs": [],
   "source": [
    "# Frequency Dictionary from raw text\n",
    "val_freq_dict = nltk.FreqDist(val_words)\n",
    "\n",
    "top_20_val = nbest(val_freq_dict, n=20)\n",
    "val_freq_dict\n"
   ]
  },
  {
   "cell_type": "markdown",
   "id": "becdc520",
   "metadata": {},
   "source": [
    "<p style=\"color:lightskyblue\">Here we repeat the same <b>tokenization</b> and <b>frequency-list</b> tasks using the <code>spaCy</code> library.</p>"
   ]
  },
  {
   "cell_type": "code",
   "execution_count": null,
   "id": "d09e0588",
   "metadata": {},
   "outputs": [],
   "source": [
    "%%capture\n",
    "# USING SPACY\n",
    "\n",
    "# Tokenization using SpaCy\n",
    "nlp = spacy.load(\"en_core_web_sm\")\n",
    "\n",
    "test_words = nlp(raw_test)\n",
    "test_vocab = set([ token.text for token in test_words ])\n",
    "list(test_vocab)[:20]"
   ]
  },
  {
   "cell_type": "code",
   "execution_count": 65,
   "id": "c3d3e08f",
   "metadata": {},
   "outputs": [
    {
     "data": {
      "text/plain": [
       "821087"
      ]
     },
     "execution_count": 65,
     "metadata": {},
     "output_type": "execute_result"
    }
   ],
   "source": [
    "# Tokenization using SpaCy\n",
    "train_words = nlp(raw_train)\n",
    "train_vocab = set([ token.text for token in train_words])\n",
    "list(train_vocab)[:20]"
   ]
  },
  {
   "cell_type": "markdown",
   "id": "2e0dc02f",
   "metadata": {},
   "source": [
    "#### Q 1.2\n",
    "- Obtain the list of:\n",
    "    1. Out-Of-Vocabulary (OOV) tokens\n",
    "    2. Overlapping tokens between train and test sets  "
   ]
  },
  {
   "cell_type": "markdown",
   "id": "4b630aa7",
   "metadata": {},
   "source": [
    "##### <h style='color:lightskyblue'> Q 1.2 Development</h>\n",
    "<p style='color:lightskyblue'>\n",
    "    We consider as <strong>OOVs</strong> characters such as <em>punctuation</em> and <em>words containing numbers</em>.\n",
    "    For convenience, both <code>spaCy</code> and <code>nltk</code> offer a list of stopwords which is displayed in the cell below.\n",
    "</p>\n",
    "<p style='color:lightskyblue'>\n",
    "    In the cells above, we tried to use spacy's <code>.is_oov</code> attribute to tokens, but the result is ambiguos in the sense that words like <code>-DOCSTART-</code>, <code>-X-</code>, <code>NN</code>, etc are not meaningfull hance not desirable training inputs. However, such an attribute also removes meaningful words such as <code>SOCCER</code>, <code>JAPAN</code>, etc.\n",
    "</p>"
   ]
  },
  {
   "cell_type": "code",
   "execution_count": 11,
   "id": "0cefb6ac",
   "metadata": {},
   "outputs": [],
   "source": [
    "%%capture\n",
    "# Lists of Stopwords\n",
    "NLTK_STOP_WORDS = set(stopwords.words('english'))\n",
    "SPACY_STOP_WORDS"
   ]
  },
  {
   "cell_type": "code",
   "execution_count": null,
   "id": "5f5d928b",
   "metadata": {},
   "outputs": [],
   "source": [
    "# Word Overlap between Test and Train sets\n"
   ]
  },
  {
   "cell_type": "markdown",
   "id": "2ab1ac1c",
   "metadata": {},
   "source": [
    "#### Q 1.3\n",
    "- Perform a complete data analysis of the whole dataset (train + test sets) to obtain:\n",
    "    1. Average sentence length computed in number of tokens\n",
    "    2. The 50 most-common tokens\n",
    "    3. Number of sentences"
   ]
  },
  {
   "cell_type": "code",
   "execution_count": null,
   "id": "36e5c39e",
   "metadata": {},
   "outputs": [],
   "source": [
    "# Loading sentences\n",
    "def load_as_sents(path):\n",
    "    sents = []\n",
    "    with open(path, 'r') as f:\n",
    "        [sents.append(line.strip()) for line in f.readlines()]\n",
    "    return sents\n",
    "\n",
    "test_sents = load_as_sents('./data/test.txt')\n",
    "train_sents = load_as_sents('./data/train.txt')\n",
    "dataset_sents = train_sents + test_sents"
   ]
  },
  {
   "cell_type": "markdown",
   "id": "1b25a8e1",
   "metadata": {},
   "source": [
    "<p style=\"color:lightskyblue\">\n",
    "    1) Finding the average sentence length in terms of tokens per sentence.\n",
    "</p>"
   ]
  },
  {
   "cell_type": "code",
   "execution_count": 8,
   "id": "9be2c371",
   "metadata": {},
   "outputs": [
    {
     "data": {
      "text/plain": [
       "3.79"
      ]
     },
     "execution_count": 8,
     "metadata": {},
     "output_type": "execute_result"
    }
   ],
   "source": [
    "# Average sentence length computed in number of tokens \n",
    "from statistics import mean\n",
    "def tokens_in_sent(text_sents):\n",
    "    '''\n",
    "    Computes the average sentence length in terms of tokens per sentence of the given :param text_sents: .\n",
    "    Params:\n",
    "    - :param text_sents: list of sentences.\n",
    "    Returns:\n",
    "    - :sent_len: number of tokens per element of the :param text_sents: list. \n",
    "    '''\n",
    "    sent_len = []\n",
    "    for sent in text_sents:\n",
    "        sent_ = sent.split(' ')\n",
    "        sent_len.append(len(sent_))\n",
    "    return mean(sent_len)\n",
    "\n",
    "words_per_sent = tokens_in_sent(dataset_sents)\n",
    "round(words_per_sent,2)"
   ]
  },
  {
   "cell_type": "code",
   "execution_count": 24,
   "id": "15fa9e55",
   "metadata": {},
   "outputs": [
    {
     "data": {
      "text/html": [
       "<div>\n",
       "<style scoped>\n",
       "    .dataframe tbody tr th:only-of-type {\n",
       "        vertical-align: middle;\n",
       "    }\n",
       "\n",
       "    .dataframe tbody tr th {\n",
       "        vertical-align: top;\n",
       "    }\n",
       "\n",
       "    .dataframe thead th {\n",
       "        text-align: right;\n",
       "    }\n",
       "</style>\n",
       "<table border=\"1\" class=\"dataframe\">\n",
       "  <thead>\n",
       "    <tr style=\"text-align: right;\">\n",
       "      <th></th>\n",
       "      <th>Frequency</th>\n",
       "      <th>Word</th>\n",
       "    </tr>\n",
       "  </thead>\n",
       "  <tbody>\n",
       "    <tr>\n",
       "      <th>0</th>\n",
       "      <td>242940</td>\n",
       "      <td>O</td>\n",
       "    </tr>\n",
       "    <tr>\n",
       "      <th>1</th>\n",
       "      <td>82822</td>\n",
       "      <td>I-NP</td>\n",
       "    </tr>\n",
       "    <tr>\n",
       "      <th>2</th>\n",
       "      <td>70372</td>\n",
       "      <td>B-NP</td>\n",
       "    </tr>\n",
       "    <tr>\n",
       "      <th>3</th>\n",
       "      <td>42987</td>\n",
       "      <td>NNP</td>\n",
       "    </tr>\n",
       "    <tr>\n",
       "      <th>4</th>\n",
       "      <td>28830</td>\n",
       "      <td>NN</td>\n",
       "    </tr>\n",
       "    <tr>\n",
       "      <th>5</th>\n",
       "      <td>25666</td>\n",
       "      <td>CD</td>\n",
       "    </tr>\n",
       "    <tr>\n",
       "      <th>6</th>\n",
       "      <td>23138</td>\n",
       "      <td>IN</td>\n",
       "    </tr>\n",
       "    <tr>\n",
       "      <th>7</th>\n",
       "      <td>22822</td>\n",
       "      <td>B-PP</td>\n",
       "    </tr>\n",
       "    <tr>\n",
       "      <th>8</th>\n",
       "      <td>21814</td>\n",
       "      <td>B-VP</td>\n",
       "    </tr>\n",
       "    <tr>\n",
       "      <th>9</th>\n",
       "      <td>18671</td>\n",
       "      <td></td>\n",
       "    </tr>\n",
       "    <tr>\n",
       "      <th>10</th>\n",
       "      <td>18019</td>\n",
       "      <td>.</td>\n",
       "    </tr>\n",
       "    <tr>\n",
       "      <th>11</th>\n",
       "      <td>17855</td>\n",
       "      <td>,</td>\n",
       "    </tr>\n",
       "    <tr>\n",
       "      <th>12</th>\n",
       "      <td>16252</td>\n",
       "      <td>DT</td>\n",
       "    </tr>\n",
       "    <tr>\n",
       "      <th>13</th>\n",
       "      <td>14224</td>\n",
       "      <td>JJ</td>\n",
       "    </tr>\n",
       "    <tr>\n",
       "      <th>14</th>\n",
       "      <td>12077</td>\n",
       "      <td>NNS</td>\n",
       "    </tr>\n",
       "    <tr>\n",
       "      <th>15</th>\n",
       "      <td>10731</td>\n",
       "      <td>I-VP</td>\n",
       "    </tr>\n",
       "    <tr>\n",
       "      <th>16</th>\n",
       "      <td>9992</td>\n",
       "      <td>VBD</td>\n",
       "    </tr>\n",
       "    <tr>\n",
       "      <th>17</th>\n",
       "      <td>8808</td>\n",
       "      <td>B-LOC</td>\n",
       "    </tr>\n",
       "    <tr>\n",
       "      <th>18</th>\n",
       "      <td>8788</td>\n",
       "      <td>the</td>\n",
       "    </tr>\n",
       "    <tr>\n",
       "      <th>19</th>\n",
       "      <td>8217</td>\n",
       "      <td>B-PER</td>\n",
       "    </tr>\n",
       "    <tr>\n",
       "      <th>20</th>\n",
       "      <td>7982</td>\n",
       "      <td>B-ORG</td>\n",
       "    </tr>\n",
       "    <tr>\n",
       "      <th>21</th>\n",
       "      <td>7101</td>\n",
       "      <td>(</td>\n",
       "    </tr>\n",
       "    <tr>\n",
       "      <th>22</th>\n",
       "      <td>7097</td>\n",
       "      <td>)</td>\n",
       "    </tr>\n",
       "    <tr>\n",
       "      <th>23</th>\n",
       "      <td>5684</td>\n",
       "      <td>I-PER</td>\n",
       "    </tr>\n",
       "    <tr>\n",
       "      <th>24</th>\n",
       "      <td>5198</td>\n",
       "      <td>\"</td>\n",
       "    </tr>\n",
       "    <tr>\n",
       "      <th>25</th>\n",
       "      <td>5185</td>\n",
       "      <td>VB</td>\n",
       "    </tr>\n",
       "    <tr>\n",
       "      <th>26</th>\n",
       "      <td>4971</td>\n",
       "      <td>VBN</td>\n",
       "    </tr>\n",
       "    <tr>\n",
       "      <th>27</th>\n",
       "      <td>4863</td>\n",
       "      <td>RB</td>\n",
       "    </tr>\n",
       "    <tr>\n",
       "      <th>28</th>\n",
       "      <td>4539</td>\n",
       "      <td>I-ORG</td>\n",
       "    </tr>\n",
       "    <tr>\n",
       "      <th>29</th>\n",
       "      <td>4534</td>\n",
       "      <td>of</td>\n",
       "    </tr>\n",
       "    <tr>\n",
       "      <th>30</th>\n",
       "      <td>4418</td>\n",
       "      <td>CC</td>\n",
       "    </tr>\n",
       "    <tr>\n",
       "      <th>31</th>\n",
       "      <td>4323</td>\n",
       "      <td>TO</td>\n",
       "    </tr>\n",
       "    <tr>\n",
       "      <th>32</th>\n",
       "      <td>4177</td>\n",
       "      <td>to</td>\n",
       "    </tr>\n",
       "    <tr>\n",
       "      <th>33</th>\n",
       "      <td>4140</td>\n",
       "      <td>B-MISC</td>\n",
       "    </tr>\n",
       "    <tr>\n",
       "      <th>34</th>\n",
       "      <td>4120</td>\n",
       "      <td>in</td>\n",
       "    </tr>\n",
       "    <tr>\n",
       "      <th>35</th>\n",
       "      <td>3860</td>\n",
       "      <td>:</td>\n",
       "    </tr>\n",
       "    <tr>\n",
       "      <th>36</th>\n",
       "      <td>3768</td>\n",
       "      <td>PRP</td>\n",
       "    </tr>\n",
       "    <tr>\n",
       "      <th>37</th>\n",
       "      <td>3599</td>\n",
       "      <td>a</td>\n",
       "    </tr>\n",
       "    <tr>\n",
       "      <th>38</th>\n",
       "      <td>3433</td>\n",
       "      <td>and</td>\n",
       "    </tr>\n",
       "    <tr>\n",
       "      <th>39</th>\n",
       "      <td>3196</td>\n",
       "      <td>B-ADVP</td>\n",
       "    </tr>\n",
       "    <tr>\n",
       "      <th>40</th>\n",
       "      <td>3069</td>\n",
       "      <td>VBG</td>\n",
       "    </tr>\n",
       "    <tr>\n",
       "      <th>41</th>\n",
       "      <td>2928</td>\n",
       "      <td>VBZ</td>\n",
       "    </tr>\n",
       "    <tr>\n",
       "      <th>42</th>\n",
       "      <td>2494</td>\n",
       "      <td>on</td>\n",
       "    </tr>\n",
       "    <tr>\n",
       "      <th>43</th>\n",
       "      <td>2354</td>\n",
       "      <td>-X-</td>\n",
       "    </tr>\n",
       "    <tr>\n",
       "      <th>44</th>\n",
       "      <td>2244</td>\n",
       "      <td>said</td>\n",
       "    </tr>\n",
       "    <tr>\n",
       "      <th>45</th>\n",
       "      <td>1900</td>\n",
       "      <td>POS</td>\n",
       "    </tr>\n",
       "    <tr>\n",
       "      <th>46</th>\n",
       "      <td>1866</td>\n",
       "      <td>'s</td>\n",
       "    </tr>\n",
       "    <tr>\n",
       "      <th>47</th>\n",
       "      <td>1816</td>\n",
       "      <td>PRP$</td>\n",
       "    </tr>\n",
       "    <tr>\n",
       "      <th>48</th>\n",
       "      <td>1767</td>\n",
       "      <td>VBP</td>\n",
       "    </tr>\n",
       "    <tr>\n",
       "      <th>49</th>\n",
       "      <td>1698</td>\n",
       "      <td>for</td>\n",
       "    </tr>\n",
       "  </tbody>\n",
       "</table>\n",
       "</div>"
      ],
      "text/plain": [
       "    Frequency    Word\n",
       "0      242940       O\n",
       "1       82822    I-NP\n",
       "2       70372    B-NP\n",
       "3       42987     NNP\n",
       "4       28830      NN\n",
       "5       25666      CD\n",
       "6       23138      IN\n",
       "7       22822    B-PP\n",
       "8       21814    B-VP\n",
       "9       18671        \n",
       "10      18019       .\n",
       "11      17855       ,\n",
       "12      16252      DT\n",
       "13      14224      JJ\n",
       "14      12077     NNS\n",
       "15      10731    I-VP\n",
       "16       9992     VBD\n",
       "17       8808   B-LOC\n",
       "18       8788     the\n",
       "19       8217   B-PER\n",
       "20       7982   B-ORG\n",
       "21       7101       (\n",
       "22       7097       )\n",
       "23       5684   I-PER\n",
       "24       5198       \"\n",
       "25       5185      VB\n",
       "26       4971     VBN\n",
       "27       4863      RB\n",
       "28       4539   I-ORG\n",
       "29       4534      of\n",
       "30       4418      CC\n",
       "31       4323      TO\n",
       "32       4177      to\n",
       "33       4140  B-MISC\n",
       "34       4120      in\n",
       "35       3860       :\n",
       "36       3768     PRP\n",
       "37       3599       a\n",
       "38       3433     and\n",
       "39       3196  B-ADVP\n",
       "40       3069     VBG\n",
       "41       2928     VBZ\n",
       "42       2494      on\n",
       "43       2354     -X-\n",
       "44       2244    said\n",
       "45       1900     POS\n",
       "46       1866      's\n",
       "47       1816    PRP$\n",
       "48       1767     VBP\n",
       "49       1698     for"
      ]
     },
     "execution_count": 24,
     "metadata": {},
     "output_type": "execute_result"
    }
   ],
   "source": [
    "dataset_words = []\n",
    "for sent in dataset_sents:\n",
    "    for word in sent.split(' '):\n",
    "        dataset_words.append(word)\n",
    "\n",
    "dataset_freq_dict = nltk.FreqDist(dataset_words)\n",
    "\n",
    "dict_freq = nbest(dataset_freq_dict, n=50)\n",
    "dict_freq\n"
   ]
  },
  {
   "cell_type": "markdown",
   "id": "1b25a8e1",
   "metadata": {},
   "source": [
    "<p style=\"color:lightskyblue\">\n",
    "    3) Number of sentences in the document.\n",
    "</p>"
   ]
  },
  {
   "cell_type": "code",
   "execution_count": 102,
   "id": "9b5ba6b0",
   "metadata": {},
   "outputs": [
    {
     "data": {
      "text/plain": [
       "269904"
      ]
     },
     "execution_count": 102,
     "metadata": {},
     "output_type": "execute_result"
    }
   ],
   "source": [
    "# Number of sentences\n",
    "len(dataset_sents)"
   ]
  },
  {
   "cell_type": "markdown",
   "id": "726af097",
   "metadata": {},
   "source": [
    "#### Q 1.4\n",
    "- Create the dictionary of Named Entities and their Frequencies for the:\n",
    "    1. Whole dataset\n",
    "    2. Train set\n",
    "    3. Test set"
   ]
  },
  {
   "cell_type": "code",
   "execution_count": null,
   "id": "5659670d",
   "metadata": {},
   "outputs": [],
   "source": []
  },
  {
   "cell_type": "markdown",
   "id": "19a08f37",
   "metadata": {},
   "source": [
    "### Task 2: Working with Dependecy Tree\n",
    "*Suggestions: use Spacy pipeline to retreive the Dependecy Tree*\n"
   ]
  },
  {
   "cell_type": "markdown",
   "id": "ad1ba597",
   "metadata": {},
   "source": [
    "#### Q 2.1\n",
    "- Given each sentence in the dataset, write the required functions to provide:\n",
    "    1. Subject, obects (direct and indirect)\n",
    "    2. Noun chunks\n",
    "    3. The head noun in each noun chunk\n",
    "    \n",
    "**Attention**: *print only the results of these functions by using the sentence \"I saw the man with a telescope\"*"
   ]
  },
  {
   "cell_type": "code",
   "execution_count": null,
   "id": "f6292d5e",
   "metadata": {},
   "outputs": [],
   "source": []
  },
  {
   "cell_type": "markdown",
   "id": "84838829",
   "metadata": {},
   "source": [
    "#### Q 2.2\n",
    "- Given a dependecy tree of a sentence and a segment of that sentence write the required functions that ouput the dependency subtree of that segment.\n",
    "\n",
    "**Attention**: *print only the results of these functions by using the sentence \"I saw the man with a telescope\" (the segment could be any e.g. \"saw the man\", \"a telescope\", etc.)*"
   ]
  },
  {
   "cell_type": "code",
   "execution_count": null,
   "id": "b8d524e6",
   "metadata": {},
   "outputs": [],
   "source": []
  },
  {
   "cell_type": "markdown",
   "id": "292e99ac",
   "metadata": {},
   "source": [
    "#### Q 2.3\n",
    "- Given a token in a sentence, write the required functions that output the dependency path from the root of the dependency tree to that given token.\n",
    "\n",
    "**Attention**: *print only the results of these functions by using the sentence \"I saw the man with a telescope\"*"
   ]
  },
  {
   "cell_type": "code",
   "execution_count": null,
   "id": "3b0b1106",
   "metadata": {},
   "outputs": [],
   "source": []
  },
  {
   "cell_type": "markdown",
   "id": "b3358779",
   "metadata": {},
   "source": [
    "### Task 3: Named Entity Recognition\n",
    "*Suggestion: use scikit-learn metric functions. See classification_report*"
   ]
  },
  {
   "cell_type": "markdown",
   "id": "c820ad69",
   "metadata": {},
   "source": [
    "#### Q 3.1\n",
    "- Benchmark Spacy Named Entity Recognition model on the test set by:\n",
    "    1. Providing the list of categories in the dataset (person, organization, etc.)\n",
    "    2. Computing the overall accuracy on NER\n",
    "    3. Computing the performance of the Named Entity Recognition model for each category:\n",
    "        - Compute the perfomance at the token level (eg. B-Person, I-Person, B-Organization, I-Organization, O, etc.)\n",
    "        - Compute the performance at the entity level (eg. Person, Organization, etc.)"
   ]
  },
  {
   "cell_type": "code",
   "execution_count": null,
   "id": "a051c93d",
   "metadata": {},
   "outputs": [],
   "source": []
  },
  {
   "cell_type": "markdown",
   "id": "d669ee84",
   "metadata": {},
   "source": [
    "### Task 4: BONUS PART (extra mark for laude)"
   ]
  },
  {
   "cell_type": "markdown",
   "id": "0f56fc4f",
   "metadata": {},
   "source": [
    "#### Q 4.1\n",
    "- Modify NLTK Transition parser's Configuration calss to use better features."
   ]
  },
  {
   "cell_type": "code",
   "execution_count": null,
   "id": "8b182ed9",
   "metadata": {},
   "outputs": [],
   "source": []
  },
  {
   "cell_type": "markdown",
   "id": "41ebf011",
   "metadata": {},
   "source": [
    "#### Q 4.2\n",
    "- Evaluate the features comparing performance to the original."
   ]
  },
  {
   "cell_type": "code",
   "execution_count": null,
   "id": "6e5177f9",
   "metadata": {},
   "outputs": [],
   "source": []
  },
  {
   "cell_type": "markdown",
   "id": "cfa4657c",
   "metadata": {},
   "source": [
    "#### Q 4.3\n",
    "- Replace SVM classifier with an alternative of your choice."
   ]
  },
  {
   "cell_type": "code",
   "execution_count": null,
   "id": "93b94966",
   "metadata": {},
   "outputs": [],
   "source": []
  }
 ],
 "metadata": {
  "kernelspec": {
   "display_name": "Python 3 (ipykernel)",
   "language": "python",
   "name": "python3"
  },
  "language_info": {
   "codemirror_mode": {
    "name": "ipython",
    "version": 3
   },
   "file_extension": ".py",
   "mimetype": "text/x-python",
   "name": "python",
   "nbconvert_exporter": "python",
   "pygments_lexer": "ipython3",
   "version": "3.8.12"
  }
 },
 "nbformat": 4,
 "nbformat_minor": 5
}
